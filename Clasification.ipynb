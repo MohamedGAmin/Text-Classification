{
 "cells": [
  {
   "cell_type": "markdown",
   "metadata": {
    "id": "2Ag3R2TNMyPJ"
   },
   "source": [
    "# Importing"
   ]
  },
  {
   "cell_type": "code",
   "execution_count": 1,
   "metadata": {
    "executionInfo": {
     "elapsed": 788,
     "status": "ok",
     "timestamp": 1632114761398,
     "user": {
      "displayName": "Mohamed Gamal",
      "photoUrl": "https://lh3.googleusercontent.com/a-/AOh14GiGYj1A1DI31J9UAHG_y0hvKKp9jwthX27z4wF9=s64",
      "userId": "01008405082416255879"
     },
     "user_tz": -120
    },
    "id": "V7IYXKJCkLqL"
   },
   "outputs": [],
   "source": [
    "import numpy as np\n",
    "import pandas as pd \n",
    "import re\n",
    "import matplotlib.pyplot as plt\n",
    "import seaborn as sns\n",
    "\n",
    "from sklearn.pipeline import Pipeline\n",
    "\n",
    "from sklearn.feature_extraction.text import CountVectorizer, TfidfVectorizer,TfidfTransformer\n",
    "from sklearn.utils.class_weight import compute_sample_weight\n",
    "\n",
    "from sklearn.model_selection import train_test_split,learning_curve\n",
    "\n",
    "from sklearn.linear_model import LogisticRegression,SGDClassifier\n",
    "from sklearn.naive_bayes import MultinomialNB\n",
    "from sklearn.ensemble import RandomForestClassifier\n",
    "from sklearn.neighbors import KNeighborsClassifier\n",
    "from sklearn.svm import SVC\n",
    "\n",
    "\n",
    "from sklearn.metrics import confusion_matrix,classification_report"
   ]
  },
  {
   "cell_type": "code",
   "execution_count": 2,
   "metadata": {
    "colab": {
     "base_uri": "https://localhost:8080/"
    },
    "executionInfo": {
     "elapsed": 3444,
     "status": "ok",
     "timestamp": 1632114764840,
     "user": {
      "displayName": "Mohamed Gamal",
      "photoUrl": "https://lh3.googleusercontent.com/a-/AOh14GiGYj1A1DI31J9UAHG_y0hvKKp9jwthX27z4wF9=s64",
      "userId": "01008405082416255879"
     },
     "user_tz": -120
    },
    "id": "V47uAtzkM99z",
    "outputId": "991d19bb-84c7-4a1e-976e-e2f89bb8b370"
   },
   "outputs": [
    {
     "name": "stdout",
     "output_type": "stream",
     "text": [
      "Collecting scikit-learn\n",
      "  Using cached scikit_learn-0.24.2-cp38-cp38-win_amd64.whl (6.9 MB)\n",
      "Requirement already satisfied, skipping upgrade: numpy>=1.13.3 in c:\\programdata\\anaconda3\\lib\\site-packages (from scikit-learn) (1.19.2)\n",
      "Requirement already satisfied, skipping upgrade: joblib>=0.11 in c:\\programdata\\anaconda3\\lib\\site-packages (from scikit-learn) (0.17.0)\n",
      "Requirement already satisfied, skipping upgrade: threadpoolctl>=2.0.0 in c:\\programdata\\anaconda3\\lib\\site-packages (from scikit-learn) (2.1.0)\n",
      "Requirement already satisfied, skipping upgrade: scipy>=0.19.1 in c:\\programdata\\anaconda3\\lib\\site-packages (from scikit-learn) (1.5.2)\n",
      "Installing collected packages: scikit-learn\n",
      "  Attempting uninstall: scikit-learn\n",
      "    Found existing installation: scikit-learn 0.23.2\n",
      "    Uninstalling scikit-learn-0.23.2:\n"
     ]
    },
    {
     "name": "stderr",
     "output_type": "stream",
     "text": [
      "ERROR: Could not install packages due to an EnvironmentError: [WinError 5] Access is denied: 'c:\\\\programdata\\\\anaconda3\\\\lib\\\\site-packages\\\\scikit_learn-0.23.2.dist-info\\\\COPYING'\n",
      "Consider using the `--user` option or check the permissions.\n",
      "\n"
     ]
    }
   ],
   "source": [
    "!pip install --upgrade scikit-learn"
   ]
  },
  {
   "cell_type": "markdown",
   "metadata": {
    "id": "BOx6hGk5jCt1"
   },
   "source": [
    "# Reading the data"
   ]
  },
  {
   "cell_type": "code",
   "execution_count": 3,
   "metadata": {
    "executionInfo": {
     "elapsed": 13,
     "status": "ok",
     "timestamp": 1632114764841,
     "user": {
      "displayName": "Mohamed Gamal",
      "photoUrl": "https://lh3.googleusercontent.com/a-/AOh14GiGYj1A1DI31J9UAHG_y0hvKKp9jwthX27z4wF9=s64",
      "userId": "01008405082416255879"
     },
     "user_tz": -120
    },
    "id": "mx0Xc3M5kR-Y"
   },
   "outputs": [],
   "source": [
    "df=pd.read_csv('Job titles and industries.csv')"
   ]
  },
  {
   "cell_type": "code",
   "execution_count": 4,
   "metadata": {
    "colab": {
     "base_uri": "https://localhost:8080/",
     "height": 206
    },
    "executionInfo": {
     "elapsed": 11,
     "status": "ok",
     "timestamp": 1632114764841,
     "user": {
      "displayName": "Mohamed Gamal",
      "photoUrl": "https://lh3.googleusercontent.com/a-/AOh14GiGYj1A1DI31J9UAHG_y0hvKKp9jwthX27z4wF9=s64",
      "userId": "01008405082416255879"
     },
     "user_tz": -120
    },
    "id": "eUf_yWBQkhaa",
    "outputId": "a64efdf4-1a95-4cac-9a25-533eaf5111a8"
   },
   "outputs": [
    {
     "data": {
      "text/html": [
       "<div>\n",
       "<style scoped>\n",
       "    .dataframe tbody tr th:only-of-type {\n",
       "        vertical-align: middle;\n",
       "    }\n",
       "\n",
       "    .dataframe tbody tr th {\n",
       "        vertical-align: top;\n",
       "    }\n",
       "\n",
       "    .dataframe thead th {\n",
       "        text-align: right;\n",
       "    }\n",
       "</style>\n",
       "<table border=\"1\" class=\"dataframe\">\n",
       "  <thead>\n",
       "    <tr style=\"text-align: right;\">\n",
       "      <th></th>\n",
       "      <th>job title</th>\n",
       "      <th>industry</th>\n",
       "    </tr>\n",
       "  </thead>\n",
       "  <tbody>\n",
       "    <tr>\n",
       "      <th>0</th>\n",
       "      <td>technical support and helpdesk supervisor - co...</td>\n",
       "      <td>IT</td>\n",
       "    </tr>\n",
       "    <tr>\n",
       "      <th>1</th>\n",
       "      <td>senior technical support engineer</td>\n",
       "      <td>IT</td>\n",
       "    </tr>\n",
       "    <tr>\n",
       "      <th>2</th>\n",
       "      <td>head of it services</td>\n",
       "      <td>IT</td>\n",
       "    </tr>\n",
       "    <tr>\n",
       "      <th>3</th>\n",
       "      <td>js front end engineer</td>\n",
       "      <td>IT</td>\n",
       "    </tr>\n",
       "    <tr>\n",
       "      <th>4</th>\n",
       "      <td>network and telephony controller</td>\n",
       "      <td>IT</td>\n",
       "    </tr>\n",
       "  </tbody>\n",
       "</table>\n",
       "</div>"
      ],
      "text/plain": [
       "                                           job title industry\n",
       "0  technical support and helpdesk supervisor - co...       IT\n",
       "1                  senior technical support engineer       IT\n",
       "2                                head of it services       IT\n",
       "3                              js front end engineer       IT\n",
       "4                   network and telephony controller       IT"
      ]
     },
     "execution_count": 4,
     "metadata": {},
     "output_type": "execute_result"
    }
   ],
   "source": [
    "df.head()"
   ]
  },
  {
   "cell_type": "code",
   "execution_count": 5,
   "metadata": {
    "colab": {
     "base_uri": "https://localhost:8080/"
    },
    "executionInfo": {
     "elapsed": 290,
     "status": "ok",
     "timestamp": 1632116764452,
     "user": {
      "displayName": "Mohamed Gamal",
      "photoUrl": "https://lh3.googleusercontent.com/a-/AOh14GiGYj1A1DI31J9UAHG_y0hvKKp9jwthX27z4wF9=s64",
      "userId": "01008405082416255879"
     },
     "user_tz": -120
    },
    "id": "5NqSeKWHmBCm",
    "outputId": "4dad9c8d-ce91-4ed9-fa27-679309a44dee"
   },
   "outputs": [
    {
     "name": "stdout",
     "output_type": "stream",
     "text": [
      "<class 'pandas.core.frame.DataFrame'>\n",
      "RangeIndex: 8586 entries, 0 to 8585\n",
      "Data columns (total 2 columns):\n",
      " #   Column     Non-Null Count  Dtype \n",
      "---  ------     --------------  ----- \n",
      " 0   job title  8586 non-null   object\n",
      " 1   industry   8586 non-null   object\n",
      "dtypes: object(2)\n",
      "memory usage: 134.3+ KB\n"
     ]
    }
   ],
   "source": [
    "df.info()"
   ]
  },
  {
   "cell_type": "code",
   "execution_count": 6,
   "metadata": {
    "colab": {
     "base_uri": "https://localhost:8080/",
     "height": 351
    },
    "executionInfo": {
     "elapsed": 7,
     "status": "ok",
     "timestamp": 1632114764841,
     "user": {
      "displayName": "Mohamed Gamal",
      "photoUrl": "https://lh3.googleusercontent.com/a-/AOh14GiGYj1A1DI31J9UAHG_y0hvKKp9jwthX27z4wF9=s64",
      "userId": "01008405082416255879"
     },
     "user_tz": -120
    },
    "id": "rY9o_K3yn_Ea",
    "outputId": "fb80ed61-0d95-49f8-f9df-93ec85a502e7"
   },
   "outputs": [
    {
     "name": "stderr",
     "output_type": "stream",
     "text": [
      "C:\\ProgramData\\Anaconda3\\lib\\site-packages\\seaborn\\_decorators.py:36: FutureWarning: Pass the following variable as a keyword arg: x. From version 0.12, the only valid positional argument will be `data`, and passing other arguments without an explicit keyword will result in an error or misinterpretation.\n",
      "  warnings.warn(\n"
     ]
    },
    {
     "data": {
      "text/plain": [
       "<AxesSubplot:xlabel='industry', ylabel='count'>"
      ]
     },
     "execution_count": 6,
     "metadata": {},
     "output_type": "execute_result"
    },
    {
     "data": {
      "image/png": "[encoded data removed]",
      "text/plain": [
       "<Figure size 432x288 with 1 Axes>"
      ]
     },
     "metadata": {
      "needs_background": "light"
     },
     "output_type": "display_data"
    }
   ],
   "source": [
    "sns.countplot(df['industry'])"
   ]
  },
  {
   "cell_type": "markdown",
   "metadata": {
    "id": "QwXIeiDVM53E"
   },
   "source": [
    "# Data Cleaning"
   ]
  },
  {
   "cell_type": "code",
   "execution_count": 7,
   "metadata": {
    "colab": {
     "base_uri": "https://localhost:8080/",
     "height": 283
    },
    "executionInfo": {
     "elapsed": 487,
     "status": "ok",
     "timestamp": 1632114765322,
     "user": {
      "displayName": "Mohamed Gamal",
      "photoUrl": "https://lh3.googleusercontent.com/a-/AOh14GiGYj1A1DI31J9UAHG_y0hvKKp9jwthX27z4wF9=s64",
      "userId": "01008405082416255879"
     },
     "user_tz": -120
    },
    "id": "kN0JcS9eVsmX",
    "outputId": "94670d29-c8fd-412e-b56e-c7149d9e7a69"
   },
   "outputs": [
    {
     "data": {
      "image/png": "[encoded data removed]",
      "text/plain": [
       "<Figure size 432x288 with 1 Axes>"
      ]
     },
     "metadata": {
      "needs_background": "light"
     },
     "output_type": "display_data"
    }
   ],
   "source": [
    "clean_df = df.drop_duplicates(subset=\"job title\")\n",
    "sns.countplot(x='industry',data=clean_df)\n",
    "plt.show()"
   ]
  },
  {
   "cell_type": "code",
   "execution_count": 8,
   "metadata": {
    "colab": {
     "base_uri": "https://localhost:8080/"
    },
    "executionInfo": {
     "elapsed": 6,
     "status": "ok",
     "timestamp": 1632114765322,
     "user": {
      "displayName": "Mohamed Gamal",
      "photoUrl": "https://lh3.googleusercontent.com/a-/AOh14GiGYj1A1DI31J9UAHG_y0hvKKp9jwthX27z4wF9=s64",
      "userId": "01008405082416255879"
     },
     "user_tz": -120
    },
    "id": "JyXsXDlpfMQE",
    "outputId": "8a3fc3e3-1722-432a-83b3-a1e7fadfa814"
   },
   "outputs": [
    {
     "name": "stdout",
     "output_type": "stream",
     "text": [
      "<class 'pandas.core.frame.DataFrame'>\n",
      "Int64Index: 3890 entries, 0 to 8585\n",
      "Data columns (total 2 columns):\n",
      " #   Column     Non-Null Count  Dtype \n",
      "---  ------     --------------  ----- \n",
      " 0   job title  3890 non-null   object\n",
      " 1   industry   3890 non-null   object\n",
      "dtypes: object(2)\n",
      "memory usage: 251.2+ KB\n"
     ]
    }
   ],
   "source": [
    "clean_df.info()"
   ]
  },
  {
   "cell_type": "code",
   "execution_count": 9,
   "metadata": {
    "executionInfo": {
     "elapsed": 5,
     "status": "ok",
     "timestamp": 1632114765323,
     "user": {
      "displayName": "Mohamed Gamal",
      "photoUrl": "https://lh3.googleusercontent.com/a-/AOh14GiGYj1A1DI31J9UAHG_y0hvKKp9jwthX27z4wF9=s64",
      "userId": "01008405082416255879"
     },
     "user_tz": -120
    },
    "id": "nUHIYeJC0WVn"
   },
   "outputs": [],
   "source": [
    "#regex functions for data cleaning \"it didn't improve the classifer\"\n",
    "\n",
    "def rmv_num(text):\n",
    "  return re.sub(r\"\\d\", \"\", text)\n",
    "\n",
    "def rmv_symbole(text):\n",
    "  return re.sub(r'[^\\w]', ' ', text)\n",
    "\n",
    "def rmv_tabs(text):\n",
    "  return re.sub(' +', ' ',text)\n",
    "\n",
    "def rmv_mutipleletters(text):\n",
    "  return re.sub(' \\w\\w ', ' ',text)\n",
    "\n",
    "def rmv_oneletter(text):\n",
    "  return re.sub(' \\w ', ' ',text)"
   ]
  },
  {
   "cell_type": "code",
   "execution_count": 10,
   "metadata": {
    "executionInfo": {
     "elapsed": 5,
     "status": "ok",
     "timestamp": 1632114765323,
     "user": {
      "displayName": "Mohamed Gamal",
      "photoUrl": "https://lh3.googleusercontent.com/a-/AOh14GiGYj1A1DI31J9UAHG_y0hvKKp9jwthX27z4wF9=s64",
      "userId": "01008405082416255879"
     },
     "user_tz": -120
    },
    "id": "b78ga3uj33rW"
   },
   "outputs": [],
   "source": [
    "# applying the functions on the original df\n",
    "df['job title']= df['job title'].apply(rmv_num).apply(rmv_symbole).apply(rmv_tabs).apply(rmv_mutipleletters).apply(rmv_oneletter)"
   ]
  },
  {
   "cell_type": "markdown",
   "metadata": {
    "id": "8W8xjrGwMnFB"
   },
   "source": [
    "# Train Test Split"
   ]
  },
  {
   "cell_type": "code",
   "execution_count": 11,
   "metadata": {
    "executionInfo": {
     "elapsed": 5,
     "status": "ok",
     "timestamp": 1632114765323,
     "user": {
      "displayName": "Mohamed Gamal",
      "photoUrl": "https://lh3.googleusercontent.com/a-/AOh14GiGYj1A1DI31J9UAHG_y0hvKKp9jwthX27z4wF9=s64",
      "userId": "01008405082416255879"
     },
     "user_tz": -120
    },
    "id": "f191i3hDNVt9"
   },
   "outputs": [],
   "source": [
    "X=clean_df['job title']\n",
    "y=clean_df['industry']"
   ]
  },
  {
   "cell_type": "code",
   "execution_count": 12,
   "metadata": {
    "executionInfo": {
     "elapsed": 4,
     "status": "ok",
     "timestamp": 1632114765323,
     "user": {
      "displayName": "Mohamed Gamal",
      "photoUrl": "https://lh3.googleusercontent.com/a-/AOh14GiGYj1A1DI31J9UAHG_y0hvKKp9jwthX27z4wF9=s64",
      "userId": "01008405082416255879"
     },
     "user_tz": -120
    },
    "id": "NQ3HcBeiBrA-"
   },
   "outputs": [],
   "source": [
    "X_train, X_test, y_train, y_test = train_test_split(X, y, test_size = 0.2,random_state=48)"
   ]
  },
  {
   "cell_type": "code",
   "execution_count": 13,
   "metadata": {
    "executionInfo": {
     "elapsed": 4,
     "status": "ok",
     "timestamp": 1632114765323,
     "user": {
      "displayName": "Mohamed Gamal",
      "photoUrl": "https://lh3.googleusercontent.com/a-/AOh14GiGYj1A1DI31J9UAHG_y0hvKKp9jwthX27z4wF9=s64",
      "userId": "01008405082416255879"
     },
     "user_tz": -120
    },
    "id": "5LT0HkjoWRPq"
   },
   "outputs": [],
   "source": [
    "# Estimating sample weights by class for unbalanced datasets.\n",
    "weights = compute_sample_weight(\"balanced\",y_train)"
   ]
  },
  {
   "cell_type": "markdown",
   "metadata": {
    "id": "EVJPphleMqUP"
   },
   "source": [
    "# Modeling"
   ]
  },
  {
   "cell_type": "markdown",
   "metadata": {
    "id": "GMdJbrYHqOxX"
   },
   "source": [
    "## Naive Bayes"
   ]
  },
  {
   "cell_type": "code",
   "execution_count": 14,
   "metadata": {
    "colab": {
     "base_uri": "https://localhost:8080/"
    },
    "executionInfo": {
     "elapsed": 4,
     "status": "ok",
     "timestamp": 1632114765323,
     "user": {
      "displayName": "Mohamed Gamal",
      "photoUrl": "https://lh3.googleusercontent.com/a-/AOh14GiGYj1A1DI31J9UAHG_y0hvKKp9jwthX27z4wF9=s64",
      "userId": "01008405082416255879"
     },
     "user_tz": -120
    },
    "id": "ZG3lycWfklMl",
    "outputId": "1c112f5c-dca8-4ec6-c972-5ae5416ce965"
   },
   "outputs": [
    {
     "name": "stdout",
     "output_type": "stream",
     "text": [
      "Classification report:\n",
      "\n",
      "              precision    recall  f1-score   support\n",
      "\n",
      " Accountancy       0.76      0.98      0.85        51\n",
      "   Education       0.97      0.83      0.90       187\n",
      "          IT       0.94      0.90      0.92       307\n",
      "   Marketing       0.82      0.91      0.86       233\n",
      "\n",
      "    accuracy                           0.89       778\n",
      "   macro avg       0.87      0.91      0.88       778\n",
      "weighted avg       0.90      0.89      0.89       778\n",
      "\n"
     ]
    }
   ],
   "source": [
    "nb = Pipeline([('TfidfVectorizer', TfidfVectorizer()),\n",
    "               ('clf', MultinomialNB()),])\n",
    "\n",
    "nb.fit(X_train, y_train, **{'clf__sample_weight': weights})\n",
    "y_pred = nb.predict(X_test)\n",
    "\n",
    "print('Classification report:\\n\\n{}'.format(classification_report(y_test, y_pred)))"
   ]
  },
  {
   "cell_type": "markdown",
   "metadata": {
    "id": "KJKzsRNosQg9"
   },
   "source": [
    "## Linear SVM"
   ]
  },
  {
   "cell_type": "code",
   "execution_count": 15,
   "metadata": {
    "colab": {
     "base_uri": "https://localhost:8080/"
    },
    "executionInfo": {
     "elapsed": 281,
     "status": "ok",
     "timestamp": 1632114765601,
     "user": {
      "displayName": "Mohamed Gamal",
      "photoUrl": "https://lh3.googleusercontent.com/a-/AOh14GiGYj1A1DI31J9UAHG_y0hvKKp9jwthX27z4wF9=s64",
      "userId": "01008405082416255879"
     },
     "user_tz": -120
    },
    "id": "XAPKQmKMkz5F",
    "outputId": "2839a804-8f66-4bf8-cff8-f41d7256a3e8"
   },
   "outputs": [
    {
     "name": "stdout",
     "output_type": "stream",
     "text": [
      "Classification report:\n",
      "\n",
      "              precision    recall  f1-score   support\n",
      "\n",
      " Accountancy       0.83      0.96      0.89        51\n",
      "   Education       0.96      0.86      0.90       187\n",
      "          IT       0.93      0.92      0.92       307\n",
      "   Marketing       0.84      0.89      0.86       233\n",
      "\n",
      "    accuracy                           0.90       778\n",
      "   macro avg       0.89      0.91      0.90       778\n",
      "weighted avg       0.90      0.90      0.90       778\n",
      "\n"
     ]
    }
   ],
   "source": [
    "sgd = Pipeline([('TfidfVectorizer', TfidfVectorizer()),\n",
    "                ('clf', SGDClassifier(loss='hinge', penalty='l2',alpha=1e-3, random_state=42, max_iter=5, tol=None)),])\n",
    "\n",
    "sgd.fit(X_train, y_train, **{'clf__sample_weight': weights})\n",
    "\n",
    "y_pred = sgd.predict(X_test)\n",
    "\n",
    "print('Classification report:\\n\\n{}'.format(\n",
    "    classification_report(y_test, y_pred)))"
   ]
  },
  {
   "cell_type": "markdown",
   "metadata": {
    "id": "-51JhLGSqAL7"
   },
   "source": [
    "## Logestic Regression"
   ]
  },
  {
   "cell_type": "code",
   "execution_count": 16,
   "metadata": {
    "colab": {
     "base_uri": "https://localhost:8080/"
    },
    "executionInfo": {
     "elapsed": 5645,
     "status": "ok",
     "timestamp": 1632114771245,
     "user": {
      "displayName": "Mohamed Gamal",
      "photoUrl": "https://lh3.googleusercontent.com/a-/AOh14GiGYj1A1DI31J9UAHG_y0hvKKp9jwthX27z4wF9=s64",
      "userId": "01008405082416255879"
     },
     "user_tz": -120
    },
    "id": "Fu8Ax0e2sPbk",
    "outputId": "b3d0ee00-52c5-45b7-aed7-28b6bad11815"
   },
   "outputs": [
    {
     "name": "stdout",
     "output_type": "stream",
     "text": [
      "Classification report:\n",
      "\n",
      "              precision    recall  f1-score   support\n",
      "\n",
      " Accountancy       0.85      0.78      0.82        51\n",
      "   Education       0.87      0.88      0.87       187\n",
      "          IT       0.90      0.90      0.90       307\n",
      "   Marketing       0.83      0.85      0.84       233\n",
      "\n",
      "    accuracy                           0.87       778\n",
      "   macro avg       0.87      0.85      0.86       778\n",
      "weighted avg       0.87      0.87      0.87       778\n",
      "\n"
     ]
    }
   ],
   "source": [
    "logreg = Pipeline([('TfidfVectorizer', TfidfVectorizer()),\n",
    "                ('clf', LogisticRegression(n_jobs=20, C=1e5)),\n",
    "               ])\n",
    "\n",
    "logreg.fit(X_train, y_train, **{'clf__sample_weight': weights})\n",
    "\n",
    "y_pred = logreg.predict(X_test)\n",
    "print('Classification report:\\n\\n{}'.format(\n",
    "    classification_report(y_test, y_pred))\n",
    ")"
   ]
  },
  {
   "cell_type": "markdown",
   "metadata": {
    "id": "9BwENuEhpx0u"
   },
   "source": [
    "## Random Forest"
   ]
  },
  {
   "cell_type": "code",
   "execution_count": 17,
   "metadata": {
    "executionInfo": {
     "elapsed": 22,
     "status": "ok",
     "timestamp": 1632114771245,
     "user": {
      "displayName": "Mohamed Gamal",
      "photoUrl": "https://lh3.googleusercontent.com/a-/AOh14GiGYj1A1DI31J9UAHG_y0hvKKp9jwthX27z4wF9=s64",
      "userId": "01008405082416255879"
     },
     "user_tz": -120
    },
    "id": "WI2jl7mPBs61"
   },
   "outputs": [],
   "source": [
    "RF = Pipeline(\n",
    "    [ ('TfidfVectorizer', TfidfVectorizer()),\n",
    "        ('Logistic_Regression', RandomForestClassifier(n_estimators=100,class_weight='balanced'))\n",
    "    ],\n",
    "    verbose=True\n",
    ")"
   ]
  },
  {
   "cell_type": "code",
   "execution_count": 18,
   "metadata": {
    "colab": {
     "base_uri": "https://localhost:8080/"
    },
    "executionInfo": {
     "elapsed": 1272,
     "status": "ok",
     "timestamp": 1632114772497,
     "user": {
      "displayName": "Mohamed Gamal",
      "photoUrl": "https://lh3.googleusercontent.com/a-/AOh14GiGYj1A1DI31J9UAHG_y0hvKKp9jwthX27z4wF9=s64",
      "userId": "01008405082416255879"
     },
     "user_tz": -120
    },
    "id": "ZxtA5WeEB1VP",
    "outputId": "8f371310-96af-45d4-8a9f-598c3838110c"
   },
   "outputs": [
    {
     "name": "stdout",
     "output_type": "stream",
     "text": [
      "[Pipeline] ... (step 1 of 2) Processing TfidfVectorizer, total=   0.0s\n",
      "[Pipeline]  (step 2 of 2) Processing Logistic_Regression, total=   1.1s\n",
      "Classification report:\n",
      "\n",
      "              precision    recall  f1-score   support\n",
      "\n",
      " Accountancy       0.91      0.80      0.85        51\n",
      "   Education       0.90      0.86      0.88       187\n",
      "          IT       0.90      0.92      0.91       307\n",
      "   Marketing       0.83      0.85      0.84       233\n",
      "\n",
      "    accuracy                           0.88       778\n",
      "   macro avg       0.88      0.86      0.87       778\n",
      "weighted avg       0.88      0.88      0.88       778\n",
      "\n"
     ]
    }
   ],
   "source": [
    "RF.fit(X_train, y_train)\n",
    "y_pred = RF.predict(X_test)\n",
    "print('Classification report:\\n\\n{}'.format(\n",
    "    classification_report(y_test, y_pred))\n",
    ")"
   ]
  },
  {
   "cell_type": "markdown",
   "metadata": {
    "id": "e9wxKbhck8_-"
   },
   "source": [
    "## Confusion Matrix"
   ]
  },
  {
   "cell_type": "code",
   "execution_count": 19,
   "metadata": {
    "colab": {
     "base_uri": "https://localhost:8080/",
     "height": 444
    },
    "executionInfo": {
     "elapsed": 550,
     "status": "ok",
     "timestamp": 1632114773044,
     "user": {
      "displayName": "Mohamed Gamal",
      "photoUrl": "https://lh3.googleusercontent.com/a-/AOh14GiGYj1A1DI31J9UAHG_y0hvKKp9jwthX27z4wF9=s64",
      "userId": "01008405082416255879"
     },
     "user_tz": -120
    },
    "id": "zhQbpJW0ivjq",
    "outputId": "658b750c-1437-44fe-96c3-4b47c2aedd7c"
   },
   "outputs": [
    {
     "data": {
      "image/png": "[encoded data removed]",
      "text/plain": [
       "<Figure size 720x504 with 2 Axes>"
      ]
     },
     "metadata": {
      "needs_background": "light"
     },
     "output_type": "display_data"
    }
   ],
   "source": [
    "y_pred = sgd.predict(X_test)\n",
    "cm = confusion_matrix(y_test, y_pred)\n",
    "fig, ax = plt.subplots(figsize=(10,7))\n",
    "conf_matrix=pd.DataFrame(data=cm,columns=['Predicted:Accountancy','Predicted:Education','Predicted:IT','Predicted:Marketing']\n",
    "                                  ,index=['Actual:Accountancy','Actual:Education','Actual:IT','Actual:Marketing'])\n",
    "sns.heatmap(conf_matrix, annot=True, fmt='d',cmap=\"YlGnBu\")\n",
    "\n",
    "plt.title('Confusion Matrix for SGD')\n",
    "plt.show()"
   ]
  },
  {
   "cell_type": "markdown",
   "metadata": {
    "id": "0XR52phjqizo"
   },
   "source": [
    "# Saving Model"
   ]
  },
  {
   "cell_type": "code",
   "execution_count": 20,
   "metadata": {
    "colab": {
     "base_uri": "https://localhost:8080/"
    },
    "executionInfo": {
     "elapsed": 9,
     "status": "ok",
     "timestamp": 1632114773045,
     "user": {
      "displayName": "Mohamed Gamal",
      "photoUrl": "https://lh3.googleusercontent.com/a-/AOh14GiGYj1A1DI31J9UAHG_y0hvKKp9jwthX27z4wF9=s64",
      "userId": "01008405082416255879"
     },
     "user_tz": -120
    },
    "id": "hSY_I6iXccX3",
    "outputId": "7d2741ff-33bc-4a76-9b3f-6f4701b35123"
   },
   "outputs": [
    {
     "data": {
      "text/plain": [
       "['model.joblib']"
      ]
     },
     "execution_count": 20,
     "metadata": {},
     "output_type": "execute_result"
    }
   ],
   "source": [
    "from joblib import dump, load\n",
    "dump(sgd, 'model.joblib')"
   ]
  }
 ],
 "metadata": {
  "colab": {
   "authorship_tag": "ABX9TyNLtldStVOaQUSs0pCFlOiR",
   "collapsed_sections": [],
   "mount_file_id": "1Nan1S3i2I111YomI3d0PrcUpMt5dQJdr",
   "name": "NLP.ipynb",
   "provenance": []
  },
  "kernelspec": {
   "display_name": "Python 3",
   "language": "python",
   "name": "python3"
  },
  "language_info": {
   "codemirror_mode": {
    "name": "ipython",
    "version": 3
   },
   "file_extension": ".py",
   "mimetype": "text/x-python",
   "name": "python",
   "nbconvert_exporter": "python",
   "pygments_lexer": "ipython3",
   "version": "3.8.5"
  }
 },
 "nbformat": 4,
 "nbformat_minor": 1
}
