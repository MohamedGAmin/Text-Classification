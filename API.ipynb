{
 "cells": [
  {
   "cell_type": "code",
   "execution_count": 2,
   "metadata": {
    "colab": {
     "base_uri": "https://localhost:8080/"
    },
    "executionInfo": {
     "elapsed": 7060,
     "status": "ok",
     "timestamp": 1632116840499,
     "user": {
      "displayName": "Mohamed Gamal",
      "photoUrl": "https://lh3.googleusercontent.com/a-/AOh14GiGYj1A1DI31J9UAHG_y0hvKKp9jwthX27z4wF9=s64",
      "userId": "01008405082416255879"
     },
     "user_tz": -120
    },
    "id": "U-isr3ooiDFW",
    "outputId": "96d4d87c-a342-4818-f1fe-4c43e0852f7b"
   },
   "outputs": [
    {
     "name": "stdout",
     "output_type": "stream",
     "text": [
      "Requirement already satisfied: flask_restful in c:\\programdata\\anaconda3\\lib\\site-packages (0.3.9)\n",
      "Requirement already satisfied: six>=1.3.0 in c:\\programdata\\anaconda3\\lib\\site-packages (from flask_restful) (1.15.0)\n",
      "Requirement already satisfied: aniso8601>=0.82 in c:\\programdata\\anaconda3\\lib\\site-packages (from flask_restful) (9.0.1)\n",
      "Requirement already satisfied: pytz in c:\\programdata\\anaconda3\\lib\\site-packages (from flask_restful) (2020.1)\n",
      "Requirement already satisfied: Flask>=0.8 in c:\\programdata\\anaconda3\\lib\\site-packages (from flask_restful) (1.1.2)\n",
      "Requirement already satisfied: Jinja2>=2.10.1 in c:\\programdata\\anaconda3\\lib\\site-packages (from Flask>=0.8->flask_restful) (2.11.2)\n",
      "Requirement already satisfied: click>=5.1 in c:\\programdata\\anaconda3\\lib\\site-packages (from Flask>=0.8->flask_restful) (7.1.2)\n",
      "Requirement already satisfied: Werkzeug>=0.15 in c:\\programdata\\anaconda3\\lib\\site-packages (from Flask>=0.8->flask_restful) (1.0.1)\n",
      "Requirement already satisfied: itsdangerous>=0.24 in c:\\programdata\\anaconda3\\lib\\site-packages (from Flask>=0.8->flask_restful) (1.1.0)\n",
      "Requirement already satisfied: MarkupSafe>=0.23 in c:\\programdata\\anaconda3\\lib\\site-packages (from Jinja2>=2.10.1->Flask>=0.8->flask_restful) (1.1.1)\n",
      " * Serving Flask app \"__main__\" (lazy loading)\n",
      " * Environment: production\n",
      "   WARNING: This is a development server. Do not use it in a production deployment.\n",
      "   Use a production WSGI server instead.\n",
      " * Debug mode: off\n"
     ]
    },
    {
     "name": "stderr",
     "output_type": "stream",
     "text": [
      " * Running on http://127.0.0.1:5000/ (Press CTRL+C to quit)\n",
      "127.0.0.1 - - [20/Sep/2021 08:11:01] \"\u001b[33mGET / HTTP/1.1\u001b[0m\" 404 -\n",
      "127.0.0.1 - - [20/Sep/2021 08:11:03] \"\u001b[37mGET /favicon.ico HTTP/1.1\u001b[0m\" 200 -\n",
      "127.0.0.1 - - [20/Sep/2021 08:11:03] \"\u001b[37mGET /favicon.ico HTTP/1.1\u001b[0m\" 200 -\n",
      "127.0.0.1 - - [20/Sep/2021 08:11:03] \"\u001b[37mGET /favicon.ico HTTP/1.1\u001b[0m\" 200 -\n",
      "127.0.0.1 - - [20/Sep/2021 08:11:05] \"\u001b[37mGET /ssa HTTP/1.1\u001b[0m\" 200 -\n",
      "127.0.0.1 - - [20/Sep/2021 08:11:05] \"\u001b[37mGET /favicon.ico HTTP/1.1\u001b[0m\" 200 -\n",
      "127.0.0.1 - - [20/Sep/2021 08:11:05] \"\u001b[37mGET /favicon.ico HTTP/1.1\u001b[0m\" 200 -\n",
      "127.0.0.1 - - [20/Sep/2021 08:11:06] \"\u001b[37mGET /favicon.ico HTTP/1.1\u001b[0m\" 200 -\n"
     ]
    }
   ],
   "source": [
    "!pip install flask_restful\n",
    "from flask import Flask,render_template\n",
    "from flask_restful import Api, Resource, reqparse\n",
    "import requests\n",
    "from joblib import dump, load\n",
    "\n",
    "#Defining App !\n",
    "app = Flask(__name__)\n",
    "api = Api(app)\n",
    "\n",
    "# Only one Endpoint to API supported: {GET}\n",
    "class Model(Resource):\n",
    "    # Endpoint to Get a Campaign already created in my datastore.\n",
    "    def get(self, job_title):\n",
    "        model = load('model.joblib')\n",
    "        pred_industry = model.predict([job_title])\n",
    "        return pred_industry[0], 200\n",
    "\n",
    "# Adding routes to the Application and Endpoints to App\n",
    "api.add_resource(Model, \"/<string:job_title>\")\n",
    "\n",
    "app.run()"
   ]
  },
  {
   "cell_type": "code",
   "execution_count": null,
   "metadata": {
    "executionInfo": {
     "elapsed": 19,
     "status": "ok",
     "timestamp": 1632116755676,
     "user": {
      "displayName": "Mohamed Gamal",
      "photoUrl": "https://lh3.googleusercontent.com/a-/AOh14GiGYj1A1DI31J9UAHG_y0hvKKp9jwthX27z4wF9=s64",
      "userId": "01008405082416255879"
     },
     "user_tz": -120
    },
    "id": "KOzURzKnugel"
   },
   "outputs": [],
   "source": []
  }
 ],
 "metadata": {
  "colab": {
   "authorship_tag": "ABX9TyMlyx3/a2OLozeysbbtrW83",
   "collapsed_sections": [],
   "mount_file_id": "1SHbV7Wvo2Y2LuagZyfZO8ZSQCNA1gyLR",
   "name": "API.ipynb",
   "provenance": []
  },
  "kernelspec": {
   "display_name": "Python 3",
   "language": "python",
   "name": "python3"
  },
  "language_info": {
   "codemirror_mode": {
    "name": "ipython",
    "version": 3
   },
   "file_extension": ".py",
   "mimetype": "text/x-python",
   "name": "python",
   "nbconvert_exporter": "python",
   "pygments_lexer": "ipython3",
   "version": "3.8.5"
  }
 },
 "nbformat": 4,
 "nbformat_minor": 1
}
